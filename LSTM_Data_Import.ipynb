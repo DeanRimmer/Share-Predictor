{
 "cells": [
  {
   "cell_type": "code",
   "execution_count": 2,
   "metadata": {},
   "outputs": [],
   "source": [
    "import pandas as pd\n",
    "import numpy as np\n",
    "import matplotlib.pyplot as plt\n",
    "import seaborn as sns\n",
    "import gc\n",
    "import pywt\n",
    "from statsmodels.robust import mad\n",
    "import scipy\n",
    "from scipy import signal\n",
    "from scipy.signal import butter\n",
    "\n",
    "#importing the csv data files\n",
    "AMC = pd.read_csv(r'./Data/AMC Historical Data 18_12_2013 28_02_2021.csv', index_col=0, parse_dates=True)\n",
    "GME = pd.read_csv(r'./Data/GME Historical Data 01_01_2011 28_02_2021.csv', index_col=0, parse_dates=True)"
   ]
  },
  {
   "cell_type": "markdown",
   "metadata": {},
   "source": [
    "## Extract Data from Imports"
   ]
  },
  {
   "cell_type": "markdown",
   "metadata": {},
   "source": [
    "### Extract AMC Data"
   ]
  },
  {
   "cell_type": "code",
   "execution_count": 4,
   "metadata": {},
   "outputs": [
    {
     "name": "stdout",
     "output_type": "stream",
     "text": [
      "Stored 'AMC_Price' (ndarray)\n",
      "Stored 'AMC_Open' (ndarray)\n",
      "Stored 'AMC_High' (ndarray)\n",
      "Stored 'AMC_Low' (ndarray)\n",
      "Stored 'AMC_Vol' (ndarray)\n",
      "Stored 'AMC_Change' (ndarray)\n"
     ]
    }
   ],
   "source": [
    "AMC_Price = AMC['Price'].values\n",
    "AMC_Open = AMC['Open'].values\n",
    "AMC_High = AMC['High'].values\n",
    "AMC_Low = AMC['Low'].values\n",
    "AMC_Vol = AMC['Vol.'].values\n",
    "AMC_Change = AMC['Change %'].values\n",
    "#Store variables for training\n",
    "%store AMC_Price\n",
    "%store AMC_Open\n",
    "%store AMC_High\n",
    "%store AMC_Low\n",
    "%store AMC_Vol\n",
    "%store AMC_Change"
   ]
  },
  {
   "cell_type": "markdown",
   "metadata": {},
   "source": [
    "### Extract GME Data"
   ]
  },
  {
   "cell_type": "code",
   "execution_count": null,
   "metadata": {},
   "outputs": [],
   "source": [
    "GME_Price = GME['Price'].values\n",
    "AMC_Open = GME['Open'].values\n",
    "AMC_High = GME['High'].values\n",
    "AMC_Low = GME['Low'].values\n",
    "AMC_Vol = GME['Vol.'].values\n",
    "AMC_Change = AMC['Change %'].values\n",
    "#Store variables for training\n",
    "%store AMC_Price\n",
    "%store AMC_Open\n",
    "%store AMC_High\n",
    "%store AMC_Low\n",
    "%store AMC_Vol\n",
    "%store AMC_Change"
   ]
  }
 ],
 "metadata": {
  "kernelspec": {
   "display_name": "Python 3",
   "language": "python",
   "name": "python3"
  },
  "language_info": {
   "codemirror_mode": {
    "name": "ipython",
    "version": 3
   },
   "file_extension": ".py",
   "mimetype": "text/x-python",
   "name": "python",
   "nbconvert_exporter": "python",
   "pygments_lexer": "ipython3",
   "version": "3.7.9"
  }
 },
 "nbformat": 4,
 "nbformat_minor": 4
}
