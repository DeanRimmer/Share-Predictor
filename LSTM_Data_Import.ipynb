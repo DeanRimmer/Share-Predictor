{
 "cells": [
  {
   "cell_type": "markdown",
   "metadata": {},
   "source": [
    "# Data Import From CSV"
   ]
  },
  {
   "cell_type": "markdown",
   "metadata": {},
   "source": [
    "## Data and Library Import"
   ]
  },
  {
   "cell_type": "code",
   "execution_count": 1,
   "metadata": {},
   "outputs": [],
   "source": [
    "import pandas as pd\n",
    "import numpy as np\n",
    "import matplotlib.pyplot as plt\n",
    "import seaborn as sns\n",
    "import gc\n",
    "import pywt\n",
    "from statsmodels.robust import mad\n",
    "import scipy\n",
    "from scipy import signal\n",
    "from scipy.signal import butter\n",
    "\n",
    "#importing the csv data files\n",
    "AMC = pd.read_csv(r'./Data/AMC Historical Data 18_12_2013 28_02_2021.csv', index_col=0, parse_dates=True)\n",
    "GME = pd.read_csv(r'./Data/GME Historical Data 01_01_2011 28_02_2021.csv', index_col=0, parse_dates=True)"
   ]
  },
  {
   "cell_type": "markdown",
   "metadata": {},
   "source": [
    "## Extract Data from Imports"
   ]
  },
  {
   "cell_type": "markdown",
   "metadata": {},
   "source": [
    "### Extract AMC Data"
   ]
  },
  {
   "cell_type": "code",
   "execution_count": 2,
   "metadata": {},
   "outputs": [
    {
     "name": "stdout",
     "output_type": "stream",
     "text": [
      "Stored 'AMC_Price' (ndarray)\n",
      "Stored 'AMC_Open' (ndarray)\n",
      "Stored 'AMC_High' (ndarray)\n",
      "Stored 'AMC_Low' (ndarray)\n",
      "Stored 'AMC_Vol' (ndarray)\n",
      "Stored 'AMC_Change' (ndarray)\n"
     ]
    }
   ],
   "source": [
    "AMC_Price = AMC['Price'].values\n",
    "AMC_Open = AMC['Open'].values\n",
    "AMC_High = AMC['High'].values\n",
    "AMC_Low = AMC['Low'].values\n",
    "AMC_Vol = AMC['Vol.'].values\n",
    "AMC_Change = AMC['Change %'].values\n",
    "#Store variables for training\n",
    "%store AMC_Price\n",
    "%store AMC_Open\n",
    "%store AMC_High\n",
    "%store AMC_Low\n",
    "%store AMC_Vol\n",
    "%store AMC_Change"
   ]
  },
  {
   "cell_type": "markdown",
   "metadata": {},
   "source": [
    "### Extract GME Data"
   ]
  },
  {
   "cell_type": "code",
   "execution_count": 3,
   "metadata": {},
   "outputs": [
    {
     "name": "stdout",
     "output_type": "stream",
     "text": [
      "Stored 'GME_Price' (ndarray)\n",
      "Stored 'GME_Open' (ndarray)\n",
      "Stored 'GME_High' (ndarray)\n",
      "Stored 'GME_Low' (ndarray)\n",
      "Stored 'GME_Vol' (ndarray)\n",
      "Stored 'GME_Change' (ndarray)\n"
     ]
    }
   ],
   "source": [
    "GME_Price = GME['Price'].values\n",
    "GME_Open = GME['Open'].values\n",
    "GME_High = GME['High'].values\n",
    "GME_Low = GME['Low'].values\n",
    "GME_Vol = GME['Vol.'].values\n",
    "GME_Change = GME['Change %'].values\n",
    "#Store variables for training\n",
    "%store GME_Price\n",
    "%store GME_Open\n",
    "%store GME_High\n",
    "%store GME_Low\n",
    "%store GME_Vol\n",
    "%store GME_Change"
   ]
  },
  {
   "cell_type": "code",
   "execution_count": null,
   "metadata": {},
   "outputs": [],
   "source": []
  }
 ],
 "metadata": {
  "kernelspec": {
   "display_name": "Python 3",
   "language": "python",
   "name": "python3"
  },
  "language_info": {
   "codemirror_mode": {
    "name": "ipython",
    "version": 3
   },
   "file_extension": ".py",
   "mimetype": "text/x-python",
   "name": "python",
   "nbconvert_exporter": "python",
   "pygments_lexer": "ipython3",
   "version": "3.7.9"
  }
 },
 "nbformat": 4,
 "nbformat_minor": 4
}
