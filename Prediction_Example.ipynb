{
 "cells": [
  {
   "cell_type": "markdown",
   "metadata": {},
   "source": [
    "# Example of Prediction"
   ]
  },
  {
   "cell_type": "markdown",
   "metadata": {},
   "source": [
    "## Data and Library Import"
   ]
  },
  {
   "cell_type": "code",
   "execution_count": 1,
   "metadata": {},
   "outputs": [],
   "source": [
    "from numpy import array\n",
    "import numpy as np\n",
    "import pandas as pd\n",
    "from keras.models import Sequential\n",
    "from keras.layers import LSTM\n",
    "from keras.layers import Dense\n",
    "from keras.layers import Flatten\n",
    "from keras.layers import TimeDistributed\n",
    "from keras.layers.convolutional import Conv2D\n",
    "from keras.layers.convolutional import MaxPooling2D\n",
    "import tensorflow as tf\n",
    "import matplotlib.pyplot as plt\n",
    "from sklearn.metrics import mean_squared_error\n",
    "import pandas as pd\n",
    "from numpy import loadtxt\n",
    "from keras.models import load_model\n",
    "\n",
    "#load up the trained models (this example only uses amc)\n",
    "amc_model = load_model('AMCModel.h5')\n",
    "gme_model = load_model('GMEModel.h5')"
   ]
  },
  {
   "cell_type": "markdown",
   "metadata": {},
   "source": [
    "## Split Sequence Definiteion to Fit LSTM"
   ]
  },
  {
   "cell_type": "code",
   "execution_count": 2,
   "metadata": {},
   "outputs": [],
   "source": [
    "#You can probably import the data real time or something?\n",
    "example_prediction = pd.read_csv(r'./Data/Prediction_example_data.csv', index_col=0, parse_dates=True)\n",
    "\n",
    "def split_sequence(sequence, n_steps):\n",
    "    X, y = list(), list()\n",
    "    for i in range(len(sequence)):\n",
    "        # find the end of this pattern\n",
    "        end_ix = i + n_steps\n",
    "        # check if we are beyond the sequence\n",
    "        if end_ix > len(sequence)-1:\n",
    "            break\n",
    "        # gather input and output parts of the pattern\n",
    "        seq_x, seq_y = sequence[i:end_ix], sequence[end_ix]\n",
    "        X.append(seq_x)\n",
    "        y.append(seq_y)\n",
    "    return array(X), array(y)"
   ]
  },
  {
   "cell_type": "markdown",
   "metadata": {},
   "source": [
    "## Model Testing Function"
   ]
  },
  {
   "cell_type": "code",
   "execution_count": 3,
   "metadata": {},
   "outputs": [],
   "source": [
    "def testing_data_prep(testing_set, model):\n",
    "    n_steps = 8\n",
    "    #data here taken from csv columns, have a look at the tetsing set for the format\n",
    "    price_testing = testing_set['Price'].values\n",
    "    price_open_testing = testing_set['Open'].values\n",
    "    price_high_testing = testing_set['High'].values\n",
    "    price_low_testing = testing_set['Low'].values\n",
    "    price_vol_testing = testing_set['Vol.'].values\n",
    "    price_change_testing = testing_set['Change %'].values\n",
    "\n",
    "    #runs the above split function to make the datset into small arrays with 8 steps each, copy the function for prediction\n",
    "    #this will need to be done to any prediction, it needs 8 steps behind to predict\n",
    "    Tprice, y = split_sequence(price_testing, n_steps)\n",
    "    Tprice = Tprice.reshape((Tprice.shape[0], n_steps, 1))\n",
    "    \n",
    "    Topen, y = split_sequence(price_open_testing, n_steps)\n",
    "    Topen = Topen.reshape((Topen.shape[0], n_steps, 1))\n",
    "    \n",
    "    Thigh, y = split_sequence(price_high_testing, n_steps)\n",
    "    Thigh = Thigh.reshape((Thigh.shape[0], n_steps, 1))\n",
    "    \n",
    "    Tlow, y = split_sequence(price_low_testing, n_steps)\n",
    "    Tlow = Tlow.reshape((Tlow.shape[0], n_steps, 1))\n",
    "    \n",
    "    TVol, y = split_sequence(price_low_testing, n_steps)\n",
    "    TVol = Tlow.reshape((Tlow.shape[0], n_steps, 1))\n",
    "    \n",
    "    Tchange, y = split_sequence(price_change_testing, n_steps)\n",
    "    Tchange = Tchange.reshape((Tchange.shape[0], n_steps, 1))\n",
    "\n",
    "    #This line takes all of the split arrays and puts them together, shapinng the data structure to fit the lstm\n",
    "    Example_prediction = np.concatenate((Tprice, Topen, Thigh, Tlow, Tchange), axis = 2)\n",
    "    #predicts using the correct dataset\n",
    "    prediction = model.predict(Example_prediction)\n",
    "    #with the predictions you can model them or if its just one output it\n",
    "    print(prediction)"
   ]
  },
  {
   "cell_type": "code",
   "execution_count": 4,
   "metadata": {},
   "outputs": [
    {
     "name": "stdout",
     "output_type": "stream",
     "text": [
      "[[-0.1491504]]\n"
     ]
    }
   ],
   "source": [
    "testing_data_prep(example_prediction, amc_model)"
   ]
  },
  {
   "cell_type": "code",
   "execution_count": null,
   "metadata": {},
   "outputs": [],
   "source": []
  }
 ],
 "metadata": {
  "kernelspec": {
   "display_name": "Python 3",
   "language": "python",
   "name": "python3"
  },
  "language_info": {
   "codemirror_mode": {
    "name": "ipython",
    "version": 3
   },
   "file_extension": ".py",
   "mimetype": "text/x-python",
   "name": "python",
   "nbconvert_exporter": "python",
   "pygments_lexer": "ipython3",
   "version": "3.7.9"
  }
 },
 "nbformat": 4,
 "nbformat_minor": 4
}
